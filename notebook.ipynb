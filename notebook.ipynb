{
 "cells": [
  {
   "cell_type": "code",
   "execution_count": 2,
   "id": "50925ea3-651c-42a8-bb51-64b5d0e4d34c",
   "metadata": {
    "tags": []
   },
   "outputs": [],
   "source": [
    "import numpy as np\n",
    "import pandas as pd\n",
    "import matplotlib.pyplot as plt\n",
    "import seaborn as sns\n",
    "%matplotlib inline\n",
    "from sklearn.model_selection import train_test_split\n",
    "from IPython.display import display"
   ]
  },
  {
   "cell_type": "markdown",
   "id": "efd00a87-1e74-4f3a-a48b-08c66f944cae",
   "metadata": {
    "tags": []
   },
   "source": [
    "## Dataset"
   ]
  },
  {
   "cell_type": "markdown",
   "id": "c09e075e-8081-4f76-b1cc-94c82c87369b",
   "metadata": {
    "tags": []
   },
   "source": [
    "Attribute Information\n",
    "\n",
    "1. id\tDiamond identification number provided by Brilliant Earth\n",
    "2. url\tURL for the diamond details page\n",
    "3. shape\tExternal geometric appearance of a diamond\n",
    "4. price\tPrice in U.S. dollars\n",
    "5. carat\tUnit of measurement used to describe the weight of a diamond\n",
    "6. cut\tFacets, symmetry, and reflective qualities of a diamond\n",
    "7. color\tNatural color or lack of color visible within a diamond, based on the GIA grade scale\n",
    "8. clarity\tVisibility of natural microscopic inclusions and imperfections within a diamond\n",
    "9. report\tDiamond certificate or grading report provided by an independent gemology lab\n",
    "10. type\tNatural or lab created diamonds\n",
    "11. date_fetched\tDate the data was fetched"
   ]
  },
  {
   "cell_type": "code",
   "execution_count": 3,
   "id": "4d16f845-ef10-4caa-aff5-62b368921815",
   "metadata": {
    "tags": []
   },
   "outputs": [
    {
     "data": {
      "text/html": [
       "<div>\n",
       "<style scoped>\n",
       "    .dataframe tbody tr th:only-of-type {\n",
       "        vertical-align: middle;\n",
       "    }\n",
       "\n",
       "    .dataframe tbody tr th {\n",
       "        vertical-align: top;\n",
       "    }\n",
       "\n",
       "    .dataframe thead th {\n",
       "        text-align: right;\n",
       "    }\n",
       "</style>\n",
       "<table border=\"1\" class=\"dataframe\">\n",
       "  <thead>\n",
       "    <tr style=\"text-align: right;\">\n",
       "      <th></th>\n",
       "      <th>id</th>\n",
       "      <th>url</th>\n",
       "      <th>shape</th>\n",
       "      <th>price</th>\n",
       "      <th>carat</th>\n",
       "      <th>cut</th>\n",
       "      <th>color</th>\n",
       "      <th>clarity</th>\n",
       "      <th>report</th>\n",
       "      <th>type</th>\n",
       "      <th>date_fetched</th>\n",
       "    </tr>\n",
       "  </thead>\n",
       "  <tbody>\n",
       "    <tr>\n",
       "      <th>0</th>\n",
       "      <td>10086429</td>\n",
       "      <td>https://www.brilliantearth.com//loose-diamonds...</td>\n",
       "      <td>Round</td>\n",
       "      <td>400</td>\n",
       "      <td>0.30</td>\n",
       "      <td>Very Good</td>\n",
       "      <td>J</td>\n",
       "      <td>SI2</td>\n",
       "      <td>GIA</td>\n",
       "      <td>natural</td>\n",
       "      <td>2020-11-29 12-26 PM</td>\n",
       "    </tr>\n",
       "    <tr>\n",
       "      <th>1</th>\n",
       "      <td>10016334</td>\n",
       "      <td>https://www.brilliantearth.com//loose-diamonds...</td>\n",
       "      <td>Emerald</td>\n",
       "      <td>400</td>\n",
       "      <td>0.31</td>\n",
       "      <td>Ideal</td>\n",
       "      <td>I</td>\n",
       "      <td>SI1</td>\n",
       "      <td>GIA</td>\n",
       "      <td>natural</td>\n",
       "      <td>2020-11-29 12-26 PM</td>\n",
       "    </tr>\n",
       "    <tr>\n",
       "      <th>2</th>\n",
       "      <td>9947216</td>\n",
       "      <td>https://www.brilliantearth.com//loose-diamonds...</td>\n",
       "      <td>Emerald</td>\n",
       "      <td>400</td>\n",
       "      <td>0.30</td>\n",
       "      <td>Ideal</td>\n",
       "      <td>I</td>\n",
       "      <td>VS2</td>\n",
       "      <td>GIA</td>\n",
       "      <td>natural</td>\n",
       "      <td>2020-11-29 12-26 PM</td>\n",
       "    </tr>\n",
       "    <tr>\n",
       "      <th>3</th>\n",
       "      <td>10083437</td>\n",
       "      <td>https://www.brilliantearth.com//loose-diamonds...</td>\n",
       "      <td>Round</td>\n",
       "      <td>400</td>\n",
       "      <td>0.30</td>\n",
       "      <td>Ideal</td>\n",
       "      <td>I</td>\n",
       "      <td>SI2</td>\n",
       "      <td>GIA</td>\n",
       "      <td>natural</td>\n",
       "      <td>2020-11-29 12-26 PM</td>\n",
       "    </tr>\n",
       "    <tr>\n",
       "      <th>4</th>\n",
       "      <td>9946136</td>\n",
       "      <td>https://www.brilliantearth.com//loose-diamonds...</td>\n",
       "      <td>Emerald</td>\n",
       "      <td>400</td>\n",
       "      <td>0.30</td>\n",
       "      <td>Ideal</td>\n",
       "      <td>I</td>\n",
       "      <td>SI1</td>\n",
       "      <td>GIA</td>\n",
       "      <td>natural</td>\n",
       "      <td>2020-11-29 12-26 PM</td>\n",
       "    </tr>\n",
       "  </tbody>\n",
       "</table>\n",
       "</div>"
      ],
      "text/plain": [
       "         id                                                url    shape  \\\n",
       "0  10086429  https://www.brilliantearth.com//loose-diamonds...    Round   \n",
       "1  10016334  https://www.brilliantearth.com//loose-diamonds...  Emerald   \n",
       "2   9947216  https://www.brilliantearth.com//loose-diamonds...  Emerald   \n",
       "3  10083437  https://www.brilliantearth.com//loose-diamonds...    Round   \n",
       "4   9946136  https://www.brilliantearth.com//loose-diamonds...  Emerald   \n",
       "\n",
       "   price  carat        cut color clarity report     type         date_fetched  \n",
       "0    400   0.30  Very Good     J     SI2    GIA  natural  2020-11-29 12-26 PM  \n",
       "1    400   0.31      Ideal     I     SI1    GIA  natural  2020-11-29 12-26 PM  \n",
       "2    400   0.30      Ideal     I     VS2    GIA  natural  2020-11-29 12-26 PM  \n",
       "3    400   0.30      Ideal     I     SI2    GIA  natural  2020-11-29 12-26 PM  \n",
       "4    400   0.30      Ideal     I     SI1    GIA  natural  2020-11-29 12-26 PM  "
      ]
     },
     "execution_count": 3,
     "metadata": {},
     "output_type": "execute_result"
    }
   ],
   "source": [
    "df = pd.read_csv('diamonds_dataset.csv')\n",
    "df.head()"
   ]
  },
  {
   "cell_type": "code",
   "execution_count": 4,
   "id": "b28862b8-8311-4a9c-a99c-380315b77a38",
   "metadata": {
    "tags": []
   },
   "outputs": [],
   "source": [
    "df.drop(['id', 'url', 'date_fetched'], axis=1, inplace=True)"
   ]
  },
  {
   "cell_type": "markdown",
   "id": "7db9d10d-d6a8-4c46-af67-886ee916ee8e",
   "metadata": {},
   "source": [
    "### Data cleaning and exploration"
   ]
  },
  {
   "cell_type": "code",
   "execution_count": 5,
   "id": "39d4b3d6-286a-49a7-9eda-f7e18b6ed134",
   "metadata": {
    "tags": []
   },
   "outputs": [
    {
     "name": "stdout",
     "output_type": "stream",
     "text": [
      "<class 'pandas.core.frame.DataFrame'>\n",
      "RangeIndex: 119307 entries, 0 to 119306\n",
      "Data columns (total 8 columns):\n",
      " #   Column   Non-Null Count   Dtype  \n",
      "---  ------   --------------   -----  \n",
      " 0   shape    119307 non-null  object \n",
      " 1   price    119307 non-null  int64  \n",
      " 2   carat    119307 non-null  float64\n",
      " 3   cut      119307 non-null  object \n",
      " 4   color    119307 non-null  object \n",
      " 5   clarity  119307 non-null  object \n",
      " 6   report   119307 non-null  object \n",
      " 7   type     119307 non-null  object \n",
      "dtypes: float64(1), int64(1), object(6)\n",
      "memory usage: 7.3+ MB\n"
     ]
    }
   ],
   "source": [
    "df.info()"
   ]
  },
  {
   "cell_type": "markdown",
   "id": "cae4026a-2243-4357-aa21-2516f4ab3626",
   "metadata": {},
   "source": [
    "### Null values"
   ]
  },
  {
   "cell_type": "code",
   "execution_count": 6,
   "id": "1603ee06-82ef-48a6-98a3-89d0136750c7",
   "metadata": {
    "tags": []
   },
   "outputs": [
    {
     "data": {
      "text/plain": [
       "shape      0\n",
       "price      0\n",
       "carat      0\n",
       "cut        0\n",
       "color      0\n",
       "clarity    0\n",
       "report     0\n",
       "type       0\n",
       "dtype: int64"
      ]
     },
     "execution_count": 6,
     "metadata": {},
     "output_type": "execute_result"
    }
   ],
   "source": [
    "df.isna().sum()"
   ]
  },
  {
   "cell_type": "markdown",
   "id": "76f8d1be-0979-4814-9ed7-6d439cda361d",
   "metadata": {},
   "source": [
    "### Duplicates"
   ]
  },
  {
   "cell_type": "code",
   "execution_count": 7,
   "id": "4c6bb00f-e21f-4dac-8ab0-5f891d5ce798",
   "metadata": {
    "tags": []
   },
   "outputs": [
    {
     "data": {
      "text/html": [
       "<div>\n",
       "<style scoped>\n",
       "    .dataframe tbody tr th:only-of-type {\n",
       "        vertical-align: middle;\n",
       "    }\n",
       "\n",
       "    .dataframe tbody tr th {\n",
       "        vertical-align: top;\n",
       "    }\n",
       "\n",
       "    .dataframe thead th {\n",
       "        text-align: right;\n",
       "    }\n",
       "</style>\n",
       "<table border=\"1\" class=\"dataframe\">\n",
       "  <thead>\n",
       "    <tr style=\"text-align: right;\">\n",
       "      <th></th>\n",
       "      <th>shape</th>\n",
       "      <th>price</th>\n",
       "      <th>carat</th>\n",
       "      <th>cut</th>\n",
       "      <th>color</th>\n",
       "      <th>clarity</th>\n",
       "      <th>report</th>\n",
       "      <th>type</th>\n",
       "    </tr>\n",
       "  </thead>\n",
       "  <tbody>\n",
       "    <tr>\n",
       "      <th>11</th>\n",
       "      <td>Round</td>\n",
       "      <td>410</td>\n",
       "      <td>0.30</td>\n",
       "      <td>Very Good</td>\n",
       "      <td>J</td>\n",
       "      <td>SI2</td>\n",
       "      <td>GIA</td>\n",
       "      <td>natural</td>\n",
       "    </tr>\n",
       "    <tr>\n",
       "      <th>13</th>\n",
       "      <td>Round</td>\n",
       "      <td>410</td>\n",
       "      <td>0.30</td>\n",
       "      <td>Very Good</td>\n",
       "      <td>J</td>\n",
       "      <td>SI2</td>\n",
       "      <td>GIA</td>\n",
       "      <td>natural</td>\n",
       "    </tr>\n",
       "    <tr>\n",
       "      <th>14</th>\n",
       "      <td>Round</td>\n",
       "      <td>410</td>\n",
       "      <td>0.30</td>\n",
       "      <td>Very Good</td>\n",
       "      <td>J</td>\n",
       "      <td>SI2</td>\n",
       "      <td>GIA</td>\n",
       "      <td>natural</td>\n",
       "    </tr>\n",
       "    <tr>\n",
       "      <th>17</th>\n",
       "      <td>Round</td>\n",
       "      <td>410</td>\n",
       "      <td>0.30</td>\n",
       "      <td>Very Good</td>\n",
       "      <td>J</td>\n",
       "      <td>SI2</td>\n",
       "      <td>GIA</td>\n",
       "      <td>natural</td>\n",
       "    </tr>\n",
       "    <tr>\n",
       "      <th>30</th>\n",
       "      <td>Round</td>\n",
       "      <td>420</td>\n",
       "      <td>0.30</td>\n",
       "      <td>Very Good</td>\n",
       "      <td>J</td>\n",
       "      <td>SI2</td>\n",
       "      <td>GIA</td>\n",
       "      <td>natural</td>\n",
       "    </tr>\n",
       "    <tr>\n",
       "      <th>...</th>\n",
       "      <td>...</td>\n",
       "      <td>...</td>\n",
       "      <td>...</td>\n",
       "      <td>...</td>\n",
       "      <td>...</td>\n",
       "      <td>...</td>\n",
       "      <td>...</td>\n",
       "      <td>...</td>\n",
       "    </tr>\n",
       "    <tr>\n",
       "      <th>118951</th>\n",
       "      <td>Round</td>\n",
       "      <td>27030</td>\n",
       "      <td>2.73</td>\n",
       "      <td>Super Ideal</td>\n",
       "      <td>D</td>\n",
       "      <td>VVS1</td>\n",
       "      <td>GCAL</td>\n",
       "      <td>lab</td>\n",
       "    </tr>\n",
       "    <tr>\n",
       "      <th>119116</th>\n",
       "      <td>Round</td>\n",
       "      <td>34080</td>\n",
       "      <td>3.07</td>\n",
       "      <td>Super Ideal</td>\n",
       "      <td>D</td>\n",
       "      <td>VVS1</td>\n",
       "      <td>IGI</td>\n",
       "      <td>lab</td>\n",
       "    </tr>\n",
       "    <tr>\n",
       "      <th>119151</th>\n",
       "      <td>Round</td>\n",
       "      <td>36520</td>\n",
       "      <td>3.29</td>\n",
       "      <td>Super Ideal</td>\n",
       "      <td>D</td>\n",
       "      <td>VVS1</td>\n",
       "      <td>IGI</td>\n",
       "      <td>lab</td>\n",
       "    </tr>\n",
       "    <tr>\n",
       "      <th>119158</th>\n",
       "      <td>Round</td>\n",
       "      <td>37180</td>\n",
       "      <td>3.35</td>\n",
       "      <td>Super Ideal</td>\n",
       "      <td>D</td>\n",
       "      <td>VVS1</td>\n",
       "      <td>IGI</td>\n",
       "      <td>lab</td>\n",
       "    </tr>\n",
       "    <tr>\n",
       "      <th>119235</th>\n",
       "      <td>Round</td>\n",
       "      <td>46620</td>\n",
       "      <td>3.50</td>\n",
       "      <td>Super Ideal</td>\n",
       "      <td>D</td>\n",
       "      <td>VVS1</td>\n",
       "      <td>IGI</td>\n",
       "      <td>lab</td>\n",
       "    </tr>\n",
       "  </tbody>\n",
       "</table>\n",
       "<p>32680 rows × 8 columns</p>\n",
       "</div>"
      ],
      "text/plain": [
       "        shape  price  carat          cut color clarity report     type\n",
       "11      Round    410   0.30    Very Good     J     SI2    GIA  natural\n",
       "13      Round    410   0.30    Very Good     J     SI2    GIA  natural\n",
       "14      Round    410   0.30    Very Good     J     SI2    GIA  natural\n",
       "17      Round    410   0.30    Very Good     J     SI2    GIA  natural\n",
       "30      Round    420   0.30    Very Good     J     SI2    GIA  natural\n",
       "...       ...    ...    ...          ...   ...     ...    ...      ...\n",
       "118951  Round  27030   2.73  Super Ideal     D    VVS1   GCAL      lab\n",
       "119116  Round  34080   3.07  Super Ideal     D    VVS1    IGI      lab\n",
       "119151  Round  36520   3.29  Super Ideal     D    VVS1    IGI      lab\n",
       "119158  Round  37180   3.35  Super Ideal     D    VVS1    IGI      lab\n",
       "119235  Round  46620   3.50  Super Ideal     D    VVS1    IGI      lab\n",
       "\n",
       "[32680 rows x 8 columns]"
      ]
     },
     "execution_count": 7,
     "metadata": {},
     "output_type": "execute_result"
    }
   ],
   "source": [
    "df[df.duplicated()]"
   ]
  },
  {
   "cell_type": "code",
   "execution_count": 8,
   "id": "fd1f018d-bb05-405d-b242-c166e8a11118",
   "metadata": {
    "tags": []
   },
   "outputs": [],
   "source": [
    "df.drop_duplicates(inplace=True, ignore_index=True)"
   ]
  },
  {
   "cell_type": "markdown",
   "id": "3d6f2197-33c8-423a-9d04-e9ef606baa31",
   "metadata": {},
   "source": [
    "### Summary statistics for features"
   ]
  },
  {
   "cell_type": "code",
   "execution_count": 9,
   "id": "18f17e33-33cf-413f-9cae-1f6110c873b2",
   "metadata": {
    "tags": []
   },
   "outputs": [
    {
     "data": {
      "text/html": [
       "<div>\n",
       "<style scoped>\n",
       "    .dataframe tbody tr th:only-of-type {\n",
       "        vertical-align: middle;\n",
       "    }\n",
       "\n",
       "    .dataframe tbody tr th {\n",
       "        vertical-align: top;\n",
       "    }\n",
       "\n",
       "    .dataframe thead th {\n",
       "        text-align: right;\n",
       "    }\n",
       "</style>\n",
       "<table border=\"1\" class=\"dataframe\">\n",
       "  <thead>\n",
       "    <tr style=\"text-align: right;\">\n",
       "      <th></th>\n",
       "      <th>price</th>\n",
       "      <th>carat</th>\n",
       "    </tr>\n",
       "  </thead>\n",
       "  <tbody>\n",
       "    <tr>\n",
       "      <th>count</th>\n",
       "      <td>8.662700e+04</td>\n",
       "      <td>86627.000000</td>\n",
       "    </tr>\n",
       "    <tr>\n",
       "      <th>mean</th>\n",
       "      <td>3.899580e+03</td>\n",
       "      <td>0.966458</td>\n",
       "    </tr>\n",
       "    <tr>\n",
       "      <th>std</th>\n",
       "      <td>1.058300e+04</td>\n",
       "      <td>0.710722</td>\n",
       "    </tr>\n",
       "    <tr>\n",
       "      <th>min</th>\n",
       "      <td>2.700000e+02</td>\n",
       "      <td>0.250000</td>\n",
       "    </tr>\n",
       "    <tr>\n",
       "      <th>25%</th>\n",
       "      <td>1.050000e+03</td>\n",
       "      <td>0.500000</td>\n",
       "    </tr>\n",
       "    <tr>\n",
       "      <th>50%</th>\n",
       "      <td>2.110000e+03</td>\n",
       "      <td>0.750000</td>\n",
       "    </tr>\n",
       "    <tr>\n",
       "      <th>75%</th>\n",
       "      <td>4.180000e+03</td>\n",
       "      <td>1.200000</td>\n",
       "    </tr>\n",
       "    <tr>\n",
       "      <th>max</th>\n",
       "      <td>1.348720e+06</td>\n",
       "      <td>15.320000</td>\n",
       "    </tr>\n",
       "  </tbody>\n",
       "</table>\n",
       "</div>"
      ],
      "text/plain": [
       "              price         carat\n",
       "count  8.662700e+04  86627.000000\n",
       "mean   3.899580e+03      0.966458\n",
       "std    1.058300e+04      0.710722\n",
       "min    2.700000e+02      0.250000\n",
       "25%    1.050000e+03      0.500000\n",
       "50%    2.110000e+03      0.750000\n",
       "75%    4.180000e+03      1.200000\n",
       "max    1.348720e+06     15.320000"
      ]
     },
     "execution_count": 9,
     "metadata": {},
     "output_type": "execute_result"
    }
   ],
   "source": [
    "df.describe()"
   ]
  },
  {
   "cell_type": "code",
   "execution_count": 10,
   "id": "5e4a5650-4a78-4ff0-baeb-8d86c644ed32",
   "metadata": {
    "tags": []
   },
   "outputs": [
    {
     "data": {
      "text/plain": [
       "Index(['shape', 'price', 'carat', 'cut', 'color', 'clarity', 'report', 'type'], dtype='object')"
      ]
     },
     "execution_count": 10,
     "metadata": {},
     "output_type": "execute_result"
    }
   ],
   "source": [
    "df.columns"
   ]
  },
  {
   "cell_type": "code",
   "execution_count": 11,
   "id": "553d8127-a2c2-4b42-b97f-38ed4901ffd6",
   "metadata": {
    "tags": []
   },
   "outputs": [
    {
     "name": "stdout",
     "output_type": "stream",
     "text": [
      "shape\n",
      "['Round' 'Emerald' 'Marquise' 'Princess' 'Pear' 'Heart' 'Oval' 'Cushion'\n",
      " 'Asscher' 'Radiant'] \n",
      "\n",
      "cut\n",
      "['Very Good' 'Ideal' 'Super Ideal' 'Good' 'Fair'] \n",
      "\n",
      "color\n",
      "['J' 'I' 'E' 'F' 'G' 'H' 'D'] \n",
      "\n",
      "clarity\n",
      "['SI2' 'SI1' 'VS2' 'VVS1' 'VS1' 'VVS2' 'IF' 'FL'] \n",
      "\n",
      "report\n",
      "['GIA' 'HRD' 'IGI' 'GCAL'] \n",
      "\n",
      "type\n",
      "['natural' 'lab'] \n",
      "\n"
     ]
    }
   ],
   "source": [
    "categorical = ['shape', 'cut', 'color','clarity', 'report','type']\n",
    "numerical = ['carat']\n",
    "for val in categorical:\n",
    "    print(val)\n",
    "    print(df[val].unique(), '\\n')"
   ]
  },
  {
   "cell_type": "markdown",
   "id": "ba0e5d7e-3ed1-4ace-958b-522cd4c91fc3",
   "metadata": {},
   "source": [
    "## Train test split"
   ]
  },
  {
   "cell_type": "code",
   "execution_count": 12,
   "id": "ce6c54b8-037c-44df-beff-d8dbb25bdc7d",
   "metadata": {
    "tags": []
   },
   "outputs": [],
   "source": [
    "df_train_full, df_test = train_test_split(df, test_size=0.2, random_state=4)\n",
    "df_train, df_val = train_test_split(df_train_full, test_size=0.25, random_state=4)"
   ]
  },
  {
   "cell_type": "markdown",
   "id": "e6ec544f-1018-4d85-8cd5-33672051567e",
   "metadata": {
    "tags": []
   },
   "source": [
    "## EDA"
   ]
  },
  {
   "cell_type": "markdown",
   "id": "6dd3a941-b144-41e9-ba06-d2aac94cfbe1",
   "metadata": {
    "tags": []
   },
   "source": [
    "### Categorical features"
   ]
  },
  {
   "cell_type": "code",
   "execution_count": 13,
   "id": "e6011415-c379-4623-8673-f0b37403610d",
   "metadata": {
    "tags": []
   },
   "outputs": [
    {
     "data": {
      "image/png": "[encoded data removed]",
      "text/plain": [
       "<Figure size 1000x800 with 6 Axes>"
      ]
     },
     "metadata": {},
     "output_type": "display_data"
    }
   ],
   "source": [
    "plt.figure(figsize=(10, 8))\n",
    "plt.subplots_adjust(left=0.1, bottom=0.1, right=0.9, top=0.9, wspace=0.4, hspace=0.4)\n",
    "for i in range(0, len(categorical)):\n",
    "    plt.subplot(2, 3, i+1)\n",
    "    df_train_full[categorical[i]].value_counts().plot.bar()\n",
    "    plt.grid(axis='y')"
   ]
  },
  {
   "cell_type": "markdown",
   "id": "160e1a9a-e44d-4a17-b18c-1798d6a4257f",
   "metadata": {},
   "source": [
    "### Numerical features"
   ]
  },
  {
   "cell_type": "code",
   "execution_count": 14,
   "id": "c2704874-3096-418d-9f71-866a6ec7b395",
   "metadata": {
    "tags": []
   },
   "outputs": [
    {
     "data": {
      "text/plain": [
       "<Axes: title={'center': 'carat'}>"
      ]
     },
     "execution_count": 14,
     "metadata": {},
     "output_type": "execute_result"
    },
    {
     "data": {
      "image/png": "[encoded data removed]",
      "text/plain": [
       "<Figure size 640x480 with 1 Axes>"
      ]
     },
     "metadata": {},
     "output_type": "display_data"
    }
   ],
   "source": [
    "plt.title('carat')\n",
    "df_train_full['carat'].hist(bins=50)"
   ]
  },
  {
   "cell_type": "markdown",
   "id": "6b0949cd-6f98-46ab-989a-86039834eea5",
   "metadata": {},
   "source": [
    "### Target feature"
   ]
  },
  {
   "cell_type": "code",
   "execution_count": 15,
   "id": "b6bc0ebb-668f-4d83-a302-1a8fe9d17286",
   "metadata": {
    "tags": []
   },
   "outputs": [
    {
     "data": {
      "text/plain": [
       "<Axes: title={'center': 'price'}>"
      ]
     },
     "execution_count": 15,
     "metadata": {},
     "output_type": "execute_result"
    },
    {
     "data": {
      "image/png": "[encoded data removed]",
      "text/plain": [
       "<Figure size 640x480 with 1 Axes>"
      ]
     },
     "metadata": {},
     "output_type": "display_data"
    }
   ],
   "source": [
    "plt.title('price')\n",
    "plt.grid()\n",
    "df_train_full['price'].hist(bins=50)"
   ]
  },
  {
   "cell_type": "code",
   "execution_count": 16,
   "id": "5d3673c7-4aca-4613-ac94-abb51018e738",
   "metadata": {
    "tags": []
   },
   "outputs": [
    {
     "data": {
      "text/plain": [
       "<Axes: xlabel='price'>"
      ]
     },
     "execution_count": 16,
     "metadata": {},
     "output_type": "execute_result"
    },
    {
     "data": {
      "image/png": "[encoded data removed]",
      "text/plain": [
       "<Figure size 640x480 with 1 Axes>"
      ]
     },
     "metadata": {},
     "output_type": "display_data"
    }
   ],
   "source": [
    "sns.boxplot(x='price', data= df_train_full)"
   ]
  },
  {
   "cell_type": "markdown",
   "id": "b6d4eb1f-438b-44d8-933d-35a6c2f5de3f",
   "metadata": {},
   "source": [
    "### Feature importance"
   ]
  },
  {
   "cell_type": "markdown",
   "id": "633196f0-29c0-4cae-a75c-94a6982c1c21",
   "metadata": {},
   "source": [
    "#### Mutual information"
   ]
  },
  {
   "cell_type": "code",
   "execution_count": 17,
   "id": "7e7c012b-fa33-4b37-9007-8dc875cb3c31",
   "metadata": {
    "tags": []
   },
   "outputs": [],
   "source": [
    "from sklearn.metrics import mutual_info_score\n",
    "def mutual_info(series):\n",
    "    return mutual_info_score(series, df_train_full.price)"
   ]
  },
  {
   "cell_type": "code",
   "execution_count": 18,
   "id": "1337418b-c6cd-456f-add4-cc7e73fca51a",
   "metadata": {
    "tags": []
   },
   "outputs": [
    {
     "data": {
      "text/plain": [
       "shape      0.190669\n",
       "color      0.150532\n",
       "clarity    0.145702\n",
       "report     0.094260\n",
       "cut        0.080056\n",
       "type       0.062705\n",
       "dtype: float64"
      ]
     },
     "execution_count": 18,
     "metadata": {},
     "output_type": "execute_result"
    }
   ],
   "source": [
    "mi = df_train_full[categorical].apply(mutual_info)\n",
    "mi.sort_values(ascending=False)"
   ]
  },
  {
   "cell_type": "markdown",
   "id": "150a4dca-e01c-4614-9039-121690ec6517",
   "metadata": {},
   "source": [
    "#### Correlation"
   ]
  },
  {
   "cell_type": "code",
   "execution_count": 19,
   "id": "bb95517d-eb4b-4645-b739-6e5955a6e6c2",
   "metadata": {
    "tags": []
   },
   "outputs": [
    {
     "data": {
      "text/plain": [
       "<Axes: >"
      ]
     },
     "execution_count": 19,
     "metadata": {},
     "output_type": "execute_result"
    },
    {
     "data": {
      "image/png": "[encoded data removed]",
      "text/plain": [
       "<Figure size 640x480 with 2 Axes>"
      ]
     },
     "metadata": {},
     "output_type": "display_data"
    }
   ],
   "source": [
    "corr_matrix = df_train_full.corr(numeric_only=True).round(2)\n",
    "sns.heatmap(corr_matrix, annot=True)"
   ]
  },
  {
   "cell_type": "markdown",
   "id": "0dbaed71-edf9-4a3f-bfbf-1fb3a8971733",
   "metadata": {
    "tags": []
   },
   "source": [
    "## Data preparation"
   ]
  },
  {
   "cell_type": "code",
   "execution_count": 32,
   "id": "fc965459-e9c6-46e9-9c49-b91833d95ea9",
   "metadata": {
    "tags": []
   },
   "outputs": [],
   "source": [
    "y_train= df_train['price']\n",
    "y_test =df_test['price']\n",
    "y_val =df_val['price']\n",
    "\n",
    "X_train = df_train.drop('price', axis=1)\n",
    "X_test = df_test.drop('price', axis=1)\n",
    "X_val = df_val.drop('price', axis=1)"
   ]
  },
  {
   "cell_type": "code",
   "execution_count": 33,
   "id": "3bfca313-fc22-4ee3-93ae-dc15fbe590a1",
   "metadata": {
    "tags": []
   },
   "outputs": [],
   "source": [
    "y_train = np.log(y_train)\n",
    "y_test = np.log(y_test)\n",
    "y_val = np.log(y_val)"
   ]
  },
  {
   "cell_type": "code",
   "execution_count": 34,
   "id": "86b16c56-c1e6-4b50-8780-d5637a8b249f",
   "metadata": {
    "tags": []
   },
   "outputs": [
    {
     "data": {
      "text/plain": [
       "<Axes: >"
      ]
     },
     "execution_count": 34,
     "metadata": {},
     "output_type": "execute_result"
    },
    {
     "data": {
      "image/png": "[encoded data removed]",
      "text/plain": [
       "<Figure size 640x480 with 1 Axes>"
      ]
     },
     "metadata": {},
     "output_type": "display_data"
    }
   ],
   "source": [
    "y_train.hist(bins=50)"
   ]
  },
  {
   "cell_type": "markdown",
   "id": "96ed7f2b-b692-43d8-b298-0e0fff627626",
   "metadata": {
    "tags": []
   },
   "source": [
    "### Encoding categorical features"
   ]
  },
  {
   "cell_type": "markdown",
   "id": "0bf759e1-9102-4179-87de-5819a097229b",
   "metadata": {},
   "source": [
    "#### Encoding ordinal features with OrdinalEncoder"
   ]
  },
  {
   "cell_type": "code",
   "execution_count": 36,
   "id": "f181b38b-de1e-4a08-a643-f7ada6518f38",
   "metadata": {
    "tags": []
   },
   "outputs": [],
   "source": [
    "from sklearn.preprocessing import OrdinalEncoder\n",
    "\n",
    "\n",
    "\n",
    "ordered = ['cut', 'color', 'clarity']\n",
    "\n",
    "categories =[['Fair','Good', 'Very Good', 'Ideal', 'Super Ideal'],\n",
    "            ['D','E','F','G', 'H', 'I', 'J'],\n",
    "            ['FL', 'IF', 'VVS1', 'VVS2', 'VS1', 'VS2', 'SI1', 'SI2']]\n",
    "             \n",
    "encoder = OrdinalEncoder(categories=categories)\n",
    "\n",
    "\n",
    "X_train[ordered] = encoder.fit_transform(X_train[ordered])\n",
    "X_val[ordered] = encoder.transform(X_val[ordered])"
   ]
  },
  {
   "cell_type": "markdown",
   "id": "f241d4ed-34d9-4330-8669-4c0ad1b95133",
   "metadata": {},
   "source": [
    "#### Encoding nominal features with DictVectorizer"
   ]
  },
  {
   "cell_type": "code",
   "execution_count": 37,
   "id": "e5458077-41fb-4a0f-b997-6b3fc95fa770",
   "metadata": {
    "tags": []
   },
   "outputs": [],
   "source": [
    "from sklearn.feature_extraction import DictVectorizer\n",
    "dv = DictVectorizer(sparse=False)\n",
    "\n",
    "train_dict = X_train.to_dict(orient='records')\n",
    "\n",
    "val_dict = X_val.to_dict(orient='records')\n",
    "X_train = dv.fit_transform(train_dict)\n",
    "\n",
    "X_val = dv.transform(val_dict)"
   ]
  },
  {
   "cell_type": "markdown",
   "id": "9867d034-2b18-497f-9c5f-ee037cfd02ae",
   "metadata": {},
   "source": [
    "## Models training"
   ]
  },
  {
   "cell_type": "code",
   "execution_count": 38,
   "id": "58a0d03c-75c9-48e0-802e-97d882ffa254",
   "metadata": {
    "tags": []
   },
   "outputs": [],
   "source": [
    "from sklearn.metrics import mean_squared_error\n",
    "from sklearn.metrics import r2_score\n",
    "val_results = pd.DataFrame(columns=['model', 'params', 'rmse', 'r2'])\n",
    "model_results = pd.DataFrame(columns=['params',  'rmse', 'r2'])"
   ]
  },
  {
   "cell_type": "markdown",
   "id": "97f135e0-1fc6-4e88-acda-4a01e6503e7a",
   "metadata": {},
   "source": [
    "### Lasso regression"
   ]
  },
  {
   "cell_type": "code",
   "execution_count": 39,
   "id": "42e401db-aedb-4318-9013-ae9cee40ff1c",
   "metadata": {
    "tags": []
   },
   "outputs": [],
   "source": [
    "from sklearn.linear_model import Lasso\n",
    "for a in [0.001, 0.01, 0.1, 1, 1.2, 1.5]:\n",
    "    ls = Lasso(random_state=4, alpha = a)\n",
    "    ls.fit(X_train, y_train)\n",
    "    y_pred = ls.predict(X_val)\n",
    "    rmse = mean_squared_error(y_val, y_pred)\n",
    "    r2 = r2_score(y_val, y_pred)\n",
    "    model_results.loc[len(model_results)] = ['alpha=' +str(a), rmse, r2]"
   ]
  },
  {
   "cell_type": "code",
   "execution_count": 40,
   "id": "4018eb8b-6a31-4848-a9d0-fed60519837d",
   "metadata": {
    "tags": []
   },
   "outputs": [
    {
     "data": {
      "text/html": [
       "<div>\n",
       "<style scoped>\n",
       "    .dataframe tbody tr th:only-of-type {\n",
       "        vertical-align: middle;\n",
       "    }\n",
       "\n",
       "    .dataframe tbody tr th {\n",
       "        vertical-align: top;\n",
       "    }\n",
       "\n",
       "    .dataframe thead th {\n",
       "        text-align: right;\n",
       "    }\n",
       "</style>\n",
       "<table border=\"1\" class=\"dataframe\">\n",
       "  <thead>\n",
       "    <tr style=\"text-align: right;\">\n",
       "      <th></th>\n",
       "      <th>params</th>\n",
       "      <th>rmse</th>\n",
       "      <th>r2</th>\n",
       "    </tr>\n",
       "  </thead>\n",
       "  <tbody>\n",
       "    <tr>\n",
       "      <th>0</th>\n",
       "      <td>alpha=0.001</td>\n",
       "      <td>0.206902</td>\n",
       "      <td>0.779961</td>\n",
       "    </tr>\n",
       "    <tr>\n",
       "      <th>1</th>\n",
       "      <td>alpha=0.01</td>\n",
       "      <td>0.207920</td>\n",
       "      <td>0.778879</td>\n",
       "    </tr>\n",
       "    <tr>\n",
       "      <th>2</th>\n",
       "      <td>alpha=0.1</td>\n",
       "      <td>0.306693</td>\n",
       "      <td>0.673834</td>\n",
       "    </tr>\n",
       "    <tr>\n",
       "      <th>3</th>\n",
       "      <td>alpha=1</td>\n",
       "      <td>0.940369</td>\n",
       "      <td>-0.000076</td>\n",
       "    </tr>\n",
       "    <tr>\n",
       "      <th>4</th>\n",
       "      <td>alpha=1.2</td>\n",
       "      <td>0.940369</td>\n",
       "      <td>-0.000076</td>\n",
       "    </tr>\n",
       "    <tr>\n",
       "      <th>5</th>\n",
       "      <td>alpha=1.5</td>\n",
       "      <td>0.940369</td>\n",
       "      <td>-0.000076</td>\n",
       "    </tr>\n",
       "  </tbody>\n",
       "</table>\n",
       "</div>"
      ],
      "text/plain": [
       "        params      rmse        r2\n",
       "0  alpha=0.001  0.206902  0.779961\n",
       "1   alpha=0.01  0.207920  0.778879\n",
       "2    alpha=0.1  0.306693  0.673834\n",
       "3      alpha=1  0.940369 -0.000076\n",
       "4    alpha=1.2  0.940369 -0.000076\n",
       "5    alpha=1.5  0.940369 -0.000076"
      ]
     },
     "execution_count": 40,
     "metadata": {},
     "output_type": "execute_result"
    }
   ],
   "source": [
    "model_results"
   ]
  },
  {
   "cell_type": "code",
   "execution_count": 41,
   "id": "3ffdbc11-78dd-4d79-b386-c69887b98ea6",
   "metadata": {
    "tags": []
   },
   "outputs": [],
   "source": [
    "val_results.loc[len(val_results)] = ['Lasso Regression']+model_results.iloc[0].to_list()"
   ]
  },
  {
   "cell_type": "markdown",
   "id": "3165972e-2109-40ab-bba0-acb2a4f20468",
   "metadata": {},
   "source": [
    "### Ridge regression"
   ]
  },
  {
   "cell_type": "code",
   "execution_count": 42,
   "id": "b4700754-9af7-47c1-b3e4-7bb134c53d96",
   "metadata": {
    "tags": []
   },
   "outputs": [],
   "source": [
    "from sklearn.linear_model import Ridge\n",
    "model_results.drop(model_results.index , inplace=True)\n",
    "\n",
    "for a in [0.001, 0.01, 0.1, 1, 1.2, 1.5]:\n",
    "    rd = Ridge(random_state=4, alpha = a)\n",
    "    rd.fit(X_train, y_train)\n",
    "    y_pred = rd.predict(X_val)\n",
    "    rmse = mean_squared_error(y_val, y_pred)\n",
    "    r2 = r2_score(y_val, y_pred)\n",
    "    model_results.loc[len(model_results)] = ['alpha=' +str(a), rmse, r2]"
   ]
  },
  {
   "cell_type": "code",
   "execution_count": 43,
   "id": "3ae83802-ebce-4d4b-9899-76247d2b56da",
   "metadata": {
    "tags": []
   },
   "outputs": [
    {
     "data": {
      "text/html": [
       "<div>\n",
       "<style scoped>\n",
       "    .dataframe tbody tr th:only-of-type {\n",
       "        vertical-align: middle;\n",
       "    }\n",
       "\n",
       "    .dataframe tbody tr th {\n",
       "        vertical-align: top;\n",
       "    }\n",
       "\n",
       "    .dataframe thead th {\n",
       "        text-align: right;\n",
       "    }\n",
       "</style>\n",
       "<table border=\"1\" class=\"dataframe\">\n",
       "  <thead>\n",
       "    <tr style=\"text-align: right;\">\n",
       "      <th></th>\n",
       "      <th>params</th>\n",
       "      <th>rmse</th>\n",
       "      <th>r2</th>\n",
       "    </tr>\n",
       "  </thead>\n",
       "  <tbody>\n",
       "    <tr>\n",
       "      <th>0</th>\n",
       "      <td>alpha=0.001</td>\n",
       "      <td>0.206612</td>\n",
       "      <td>0.780270</td>\n",
       "    </tr>\n",
       "    <tr>\n",
       "      <th>1</th>\n",
       "      <td>alpha=0.01</td>\n",
       "      <td>0.206612</td>\n",
       "      <td>0.780270</td>\n",
       "    </tr>\n",
       "    <tr>\n",
       "      <th>2</th>\n",
       "      <td>alpha=0.1</td>\n",
       "      <td>0.206611</td>\n",
       "      <td>0.780270</td>\n",
       "    </tr>\n",
       "    <tr>\n",
       "      <th>3</th>\n",
       "      <td>alpha=1</td>\n",
       "      <td>0.206607</td>\n",
       "      <td>0.780275</td>\n",
       "    </tr>\n",
       "    <tr>\n",
       "      <th>4</th>\n",
       "      <td>alpha=1.2</td>\n",
       "      <td>0.206606</td>\n",
       "      <td>0.780276</td>\n",
       "    </tr>\n",
       "    <tr>\n",
       "      <th>5</th>\n",
       "      <td>alpha=1.5</td>\n",
       "      <td>0.206605</td>\n",
       "      <td>0.780277</td>\n",
       "    </tr>\n",
       "  </tbody>\n",
       "</table>\n",
       "</div>"
      ],
      "text/plain": [
       "        params      rmse        r2\n",
       "0  alpha=0.001  0.206612  0.780270\n",
       "1   alpha=0.01  0.206612  0.780270\n",
       "2    alpha=0.1  0.206611  0.780270\n",
       "3      alpha=1  0.206607  0.780275\n",
       "4    alpha=1.2  0.206606  0.780276\n",
       "5    alpha=1.5  0.206605  0.780277"
      ]
     },
     "execution_count": 43,
     "metadata": {},
     "output_type": "execute_result"
    }
   ],
   "source": [
    "model_results"
   ]
  },
  {
   "cell_type": "code",
   "execution_count": 44,
   "id": "e9870376-9a2b-4d89-ac17-5807ceb031ec",
   "metadata": {
    "tags": []
   },
   "outputs": [],
   "source": [
    "val_results.loc[len(val_results)] = ['Lasso Regression']+model_results.iloc[5].to_list()"
   ]
  },
  {
   "cell_type": "markdown",
   "id": "5b83fcf3-ba03-4e76-a9c9-e87f98b9070a",
   "metadata": {},
   "source": [
    "### Decision tree regression"
   ]
  },
  {
   "cell_type": "code",
   "execution_count": 45,
   "id": "0790c1ea-f1d0-4ef5-b70a-76b49e8addc0",
   "metadata": {
    "tags": []
   },
   "outputs": [],
   "source": [
    "from sklearn.tree import DecisionTreeRegressor\n",
    "model_results.drop(model_results.index , inplace=True)\n",
    "\n",
    "for depth in [2, 3, 4, 5, 6, 7, 8, 9, 10, 15, 17, 20, None]:\n",
    "    dt = DecisionTreeRegressor()\n",
    "    dt = DecisionTreeRegressor(max_depth=depth, random_state=4)\n",
    "    dt.fit(X_train, y_train)\n",
    "    y_pred = dt.predict(X_val)\n",
    "    rmse = mean_squared_error(y_val, y_pred)\n",
    "    r2 = r2_score(y_val, y_pred)\n",
    "    model_results.loc[len(model_results)] = ['max_depth=' +str(depth), rmse, r2]"
   ]
  },
  {
   "cell_type": "code",
   "execution_count": 46,
   "id": "2f861bd0-e29c-4801-8f54-68643e558c84",
   "metadata": {
    "tags": []
   },
   "outputs": [
    {
     "data": {
      "text/html": [
       "<div>\n",
       "<style scoped>\n",
       "    .dataframe tbody tr th:only-of-type {\n",
       "        vertical-align: middle;\n",
       "    }\n",
       "\n",
       "    .dataframe tbody tr th {\n",
       "        vertical-align: top;\n",
       "    }\n",
       "\n",
       "    .dataframe thead th {\n",
       "        text-align: right;\n",
       "    }\n",
       "</style>\n",
       "<table border=\"1\" class=\"dataframe\">\n",
       "  <thead>\n",
       "    <tr style=\"text-align: right;\">\n",
       "      <th></th>\n",
       "      <th>params</th>\n",
       "      <th>rmse</th>\n",
       "      <th>r2</th>\n",
       "    </tr>\n",
       "  </thead>\n",
       "  <tbody>\n",
       "    <tr>\n",
       "      <th>9</th>\n",
       "      <td>max_depth=15</td>\n",
       "      <td>0.013157</td>\n",
       "      <td>0.986007</td>\n",
       "    </tr>\n",
       "    <tr>\n",
       "      <th>10</th>\n",
       "      <td>max_depth=17</td>\n",
       "      <td>0.013691</td>\n",
       "      <td>0.985439</td>\n",
       "    </tr>\n",
       "    <tr>\n",
       "      <th>11</th>\n",
       "      <td>max_depth=20</td>\n",
       "      <td>0.014316</td>\n",
       "      <td>0.984775</td>\n",
       "    </tr>\n",
       "    <tr>\n",
       "      <th>12</th>\n",
       "      <td>max_depth=None</td>\n",
       "      <td>0.014451</td>\n",
       "      <td>0.984632</td>\n",
       "    </tr>\n",
       "    <tr>\n",
       "      <th>8</th>\n",
       "      <td>max_depth=10</td>\n",
       "      <td>0.017387</td>\n",
       "      <td>0.981509</td>\n",
       "    </tr>\n",
       "    <tr>\n",
       "      <th>7</th>\n",
       "      <td>max_depth=9</td>\n",
       "      <td>0.021176</td>\n",
       "      <td>0.977479</td>\n",
       "    </tr>\n",
       "    <tr>\n",
       "      <th>6</th>\n",
       "      <td>max_depth=8</td>\n",
       "      <td>0.026521</td>\n",
       "      <td>0.971795</td>\n",
       "    </tr>\n",
       "    <tr>\n",
       "      <th>5</th>\n",
       "      <td>max_depth=7</td>\n",
       "      <td>0.035072</td>\n",
       "      <td>0.962701</td>\n",
       "    </tr>\n",
       "    <tr>\n",
       "      <th>4</th>\n",
       "      <td>max_depth=6</td>\n",
       "      <td>0.048004</td>\n",
       "      <td>0.948948</td>\n",
       "    </tr>\n",
       "    <tr>\n",
       "      <th>3</th>\n",
       "      <td>max_depth=5</td>\n",
       "      <td>0.066740</td>\n",
       "      <td>0.929022</td>\n",
       "    </tr>\n",
       "    <tr>\n",
       "      <th>2</th>\n",
       "      <td>max_depth=4</td>\n",
       "      <td>0.098831</td>\n",
       "      <td>0.894894</td>\n",
       "    </tr>\n",
       "    <tr>\n",
       "      <th>1</th>\n",
       "      <td>max_depth=3</td>\n",
       "      <td>0.165992</td>\n",
       "      <td>0.823468</td>\n",
       "    </tr>\n",
       "    <tr>\n",
       "      <th>0</th>\n",
       "      <td>max_depth=2</td>\n",
       "      <td>0.319983</td>\n",
       "      <td>0.659700</td>\n",
       "    </tr>\n",
       "  </tbody>\n",
       "</table>\n",
       "</div>"
      ],
      "text/plain": [
       "            params      rmse        r2\n",
       "9     max_depth=15  0.013157  0.986007\n",
       "10    max_depth=17  0.013691  0.985439\n",
       "11    max_depth=20  0.014316  0.984775\n",
       "12  max_depth=None  0.014451  0.984632\n",
       "8     max_depth=10  0.017387  0.981509\n",
       "7      max_depth=9  0.021176  0.977479\n",
       "6      max_depth=8  0.026521  0.971795\n",
       "5      max_depth=7  0.035072  0.962701\n",
       "4      max_depth=6  0.048004  0.948948\n",
       "3      max_depth=5  0.066740  0.929022\n",
       "2      max_depth=4  0.098831  0.894894\n",
       "1      max_depth=3  0.165992  0.823468\n",
       "0      max_depth=2  0.319983  0.659700"
      ]
     },
     "execution_count": 46,
     "metadata": {},
     "output_type": "execute_result"
    }
   ],
   "source": [
    "model_results.sort_values(by=['r2'], ascending=False)"
   ]
  },
  {
   "cell_type": "code",
   "execution_count": 47,
   "id": "33440fe7-53da-4685-824b-638d1a2b41d7",
   "metadata": {
    "tags": []
   },
   "outputs": [],
   "source": [
    "val_results.loc[len(val_results)] = ['DecisionTreeRegressor']+model_results.iloc[9].to_list()"
   ]
  },
  {
   "cell_type": "markdown",
   "id": "84c84455-5b5a-4bbf-8651-4515e1a5ccb3",
   "metadata": {},
   "source": [
    "### Random forest regression"
   ]
  },
  {
   "cell_type": "code",
   "execution_count": 48,
   "id": "75efd0fc-f658-49d8-8adc-b6c3dd0669d9",
   "metadata": {
    "tags": []
   },
   "outputs": [],
   "source": [
    "from sklearn.ensemble import RandomForestRegressor\n",
    "model_results.drop(model_results.index , inplace=True)\n",
    "for depth in [13, 15, 17]:\n",
    "    for n in [100, 150, 200]:\n",
    "        rf = RandomForestRegressor(n_estimators=n, max_depth=depth, random_state=4,)\n",
    "        rf.fit(X_train, y_train)\n",
    "        y_pred = rf.predict(X_val)\n",
    "        rmse = mean_squared_error(y_val, y_pred)\n",
    "        r2 = r2_score(y_val, y_pred)\n",
    "        model_results.loc[len(model_results)] = ['max_depth='+ str(depth) +' n_estimators=' +str(n), rmse, r2]"
   ]
  },
  {
   "cell_type": "code",
   "execution_count": 49,
   "id": "cf54feb3-3680-4d7b-9ccb-415d1f8e526c",
   "metadata": {
    "tags": []
   },
   "outputs": [
    {
     "data": {
      "text/html": [
       "<div>\n",
       "<style scoped>\n",
       "    .dataframe tbody tr th:only-of-type {\n",
       "        vertical-align: middle;\n",
       "    }\n",
       "\n",
       "    .dataframe tbody tr th {\n",
       "        vertical-align: top;\n",
       "    }\n",
       "\n",
       "    .dataframe thead th {\n",
       "        text-align: right;\n",
       "    }\n",
       "</style>\n",
       "<table border=\"1\" class=\"dataframe\">\n",
       "  <thead>\n",
       "    <tr style=\"text-align: right;\">\n",
       "      <th></th>\n",
       "      <th>params</th>\n",
       "      <th>rmse</th>\n",
       "      <th>r2</th>\n",
       "    </tr>\n",
       "  </thead>\n",
       "  <tbody>\n",
       "    <tr>\n",
       "      <th>2</th>\n",
       "      <td>max_depth=13 n_estimators=200</td>\n",
       "      <td>0.010136</td>\n",
       "      <td>0.989220</td>\n",
       "    </tr>\n",
       "    <tr>\n",
       "      <th>5</th>\n",
       "      <td>max_depth=15 n_estimators=200</td>\n",
       "      <td>0.010140</td>\n",
       "      <td>0.989216</td>\n",
       "    </tr>\n",
       "    <tr>\n",
       "      <th>0</th>\n",
       "      <td>max_depth=13 n_estimators=100</td>\n",
       "      <td>0.010141</td>\n",
       "      <td>0.989216</td>\n",
       "    </tr>\n",
       "    <tr>\n",
       "      <th>1</th>\n",
       "      <td>max_depth=13 n_estimators=150</td>\n",
       "      <td>0.010142</td>\n",
       "      <td>0.989214</td>\n",
       "    </tr>\n",
       "    <tr>\n",
       "      <th>4</th>\n",
       "      <td>max_depth=15 n_estimators=150</td>\n",
       "      <td>0.010144</td>\n",
       "      <td>0.989212</td>\n",
       "    </tr>\n",
       "    <tr>\n",
       "      <th>3</th>\n",
       "      <td>max_depth=15 n_estimators=100</td>\n",
       "      <td>0.010153</td>\n",
       "      <td>0.989202</td>\n",
       "    </tr>\n",
       "    <tr>\n",
       "      <th>8</th>\n",
       "      <td>max_depth=17 n_estimators=200</td>\n",
       "      <td>0.010448</td>\n",
       "      <td>0.988888</td>\n",
       "    </tr>\n",
       "    <tr>\n",
       "      <th>7</th>\n",
       "      <td>max_depth=17 n_estimators=150</td>\n",
       "      <td>0.010452</td>\n",
       "      <td>0.988885</td>\n",
       "    </tr>\n",
       "    <tr>\n",
       "      <th>6</th>\n",
       "      <td>max_depth=17 n_estimators=100</td>\n",
       "      <td>0.010462</td>\n",
       "      <td>0.988874</td>\n",
       "    </tr>\n",
       "  </tbody>\n",
       "</table>\n",
       "</div>"
      ],
      "text/plain": [
       "                          params      rmse        r2\n",
       "2  max_depth=13 n_estimators=200  0.010136  0.989220\n",
       "5  max_depth=15 n_estimators=200  0.010140  0.989216\n",
       "0  max_depth=13 n_estimators=100  0.010141  0.989216\n",
       "1  max_depth=13 n_estimators=150  0.010142  0.989214\n",
       "4  max_depth=15 n_estimators=150  0.010144  0.989212\n",
       "3  max_depth=15 n_estimators=100  0.010153  0.989202\n",
       "8  max_depth=17 n_estimators=200  0.010448  0.988888\n",
       "7  max_depth=17 n_estimators=150  0.010452  0.988885\n",
       "6  max_depth=17 n_estimators=100  0.010462  0.988874"
      ]
     },
     "execution_count": 49,
     "metadata": {},
     "output_type": "execute_result"
    }
   ],
   "source": [
    "model_results.sort_values(by=['r2'], ascending=False)"
   ]
  },
  {
   "cell_type": "markdown",
   "id": "3d0377b8-6df2-46f5-bccd-a0dc3e0e9213",
   "metadata": {},
   "source": [
    "All models have nearly the same results. So I chose the one with smaller parameter values because it will train quicker and have a smaller size."
   ]
  },
  {
   "cell_type": "code",
   "execution_count": 50,
   "id": "1bc62e4e-0a06-4aac-b0e5-e6618fc8ff8a",
   "metadata": {
    "tags": []
   },
   "outputs": [],
   "source": [
    "val_results.loc[len(val_results)] = ['RandomForestRegressor']+model_results.iloc[0].to_list()"
   ]
  },
  {
   "cell_type": "code",
   "execution_count": 51,
   "id": "e875663b-5681-4759-998e-854b0f610d07",
   "metadata": {
    "tags": []
   },
   "outputs": [
    {
     "data": {
      "text/html": [
       "<div>\n",
       "<style scoped>\n",
       "    .dataframe tbody tr th:only-of-type {\n",
       "        vertical-align: middle;\n",
       "    }\n",
       "\n",
       "    .dataframe tbody tr th {\n",
       "        vertical-align: top;\n",
       "    }\n",
       "\n",
       "    .dataframe thead th {\n",
       "        text-align: right;\n",
       "    }\n",
       "</style>\n",
       "<table border=\"1\" class=\"dataframe\">\n",
       "  <thead>\n",
       "    <tr style=\"text-align: right;\">\n",
       "      <th></th>\n",
       "      <th>model</th>\n",
       "      <th>params</th>\n",
       "      <th>rmse</th>\n",
       "      <th>r2</th>\n",
       "    </tr>\n",
       "  </thead>\n",
       "  <tbody>\n",
       "    <tr>\n",
       "      <th>0</th>\n",
       "      <td>Lasso Regression</td>\n",
       "      <td>alpha=0.001</td>\n",
       "      <td>0.206902</td>\n",
       "      <td>0.779961</td>\n",
       "    </tr>\n",
       "    <tr>\n",
       "      <th>1</th>\n",
       "      <td>Lasso Regression</td>\n",
       "      <td>alpha=1.5</td>\n",
       "      <td>0.206605</td>\n",
       "      <td>0.780277</td>\n",
       "    </tr>\n",
       "    <tr>\n",
       "      <th>2</th>\n",
       "      <td>DecisionTreeRegressor</td>\n",
       "      <td>max_depth=15</td>\n",
       "      <td>0.013157</td>\n",
       "      <td>0.986007</td>\n",
       "    </tr>\n",
       "    <tr>\n",
       "      <th>3</th>\n",
       "      <td>RandomForestRegressor</td>\n",
       "      <td>max_depth=13 n_estimators=100</td>\n",
       "      <td>0.010141</td>\n",
       "      <td>0.989216</td>\n",
       "    </tr>\n",
       "  </tbody>\n",
       "</table>\n",
       "</div>"
      ],
      "text/plain": [
       "                   model                         params      rmse        r2\n",
       "0       Lasso Regression                    alpha=0.001  0.206902  0.779961\n",
       "1       Lasso Regression                      alpha=1.5  0.206605  0.780277\n",
       "2  DecisionTreeRegressor                   max_depth=15  0.013157  0.986007\n",
       "3  RandomForestRegressor  max_depth=13 n_estimators=100  0.010141  0.989216"
      ]
     },
     "execution_count": 51,
     "metadata": {},
     "output_type": "execute_result"
    }
   ],
   "source": [
    "val_results"
   ]
  },
  {
   "cell_type": "markdown",
   "id": "51655596-f6d6-4424-b240-49e3d4eae45c",
   "metadata": {},
   "source": [
    "## Final model training"
   ]
  },
  {
   "cell_type": "code",
   "execution_count": 52,
   "id": "adb27153-40e7-4abd-a7ee-c10e724241c2",
   "metadata": {
    "tags": []
   },
   "outputs": [],
   "source": [
    "y_train= df_train_full['price']\n",
    "y_train = np.log(y_train)\n",
    "X_train = df_train_full.drop('price', axis=1)\n",
    "\n",
    "X_train[ordered] = encoder.fit_transform(X_train[ordered])\n",
    "X_test[ordered] = encoder.transform(X_test[ordered])\n",
    "\n",
    "dv = DictVectorizer(sparse=False)\n",
    "\n",
    "train_dict = X_train.to_dict(orient='records')\n",
    "test_dict = X_test.to_dict(orient='records')\n",
    "\n",
    "X_train = dv.fit_transform(train_dict)\n",
    "X_test = dv.transform(test_dict)"
   ]
  },
  {
   "cell_type": "code",
   "execution_count": 53,
   "id": "eae40745-f91a-45e5-9a77-e0d2a9a550f9",
   "metadata": {
    "tags": []
   },
   "outputs": [
    {
     "data": {
      "text/html": [
       "<style>#sk-container-id-1 {color: black;}#sk-container-id-1 pre{padding: 0;}#sk-container-id-1 div.sk-toggleable {background-color: white;}#sk-container-id-1 label.sk-toggleable__label {cursor: pointer;display: block;width: 100%;margin-bottom: 0;padding: 0.3em;box-sizing: border-box;text-align: center;}#sk-container-id-1 label.sk-toggleable__label-arrow:before {content: \"▸\";float: left;margin-right: 0.25em;color: #696969;}#sk-container-id-1 label.sk-toggleable__label-arrow:hover:before {color: black;}#sk-container-id-1 div.sk-estimator:hover label.sk-toggleable__label-arrow:before {color: black;}#sk-container-id-1 div.sk-toggleable__content {max-height: 0;max-width: 0;overflow: hidden;text-align: left;background-color: #f0f8ff;}#sk-container-id-1 div.sk-toggleable__content pre {margin: 0.2em;color: black;border-radius: 0.25em;background-color: #f0f8ff;}#sk-container-id-1 input.sk-toggleable__control:checked~div.sk-toggleable__content {max-height: 200px;max-width: 100%;overflow: auto;}#sk-container-id-1 input.sk-toggleable__control:checked~label.sk-toggleable__label-arrow:before {content: \"▾\";}#sk-container-id-1 div.sk-estimator input.sk-toggleable__control:checked~label.sk-toggleable__label {background-color: #d4ebff;}#sk-container-id-1 div.sk-label input.sk-toggleable__control:checked~label.sk-toggleable__label {background-color: #d4ebff;}#sk-container-id-1 input.sk-hidden--visually {border: 0;clip: rect(1px 1px 1px 1px);clip: rect(1px, 1px, 1px, 1px);height: 1px;margin: -1px;overflow: hidden;padding: 0;position: absolute;width: 1px;}#sk-container-id-1 div.sk-estimator {font-family: monospace;background-color: #f0f8ff;border: 1px dotted black;border-radius: 0.25em;box-sizing: border-box;margin-bottom: 0.5em;}#sk-container-id-1 div.sk-estimator:hover {background-color: #d4ebff;}#sk-container-id-1 div.sk-parallel-item::after {content: \"\";width: 100%;border-bottom: 1px solid gray;flex-grow: 1;}#sk-container-id-1 div.sk-label:hover label.sk-toggleable__label {background-color: #d4ebff;}#sk-container-id-1 div.sk-serial::before {content: \"\";position: absolute;border-left: 1px solid gray;box-sizing: border-box;top: 0;bottom: 0;left: 50%;z-index: 0;}#sk-container-id-1 div.sk-serial {display: flex;flex-direction: column;align-items: center;background-color: white;padding-right: 0.2em;padding-left: 0.2em;position: relative;}#sk-container-id-1 div.sk-item {position: relative;z-index: 1;}#sk-container-id-1 div.sk-parallel {display: flex;align-items: stretch;justify-content: center;background-color: white;position: relative;}#sk-container-id-1 div.sk-item::before, #sk-container-id-1 div.sk-parallel-item::before {content: \"\";position: absolute;border-left: 1px solid gray;box-sizing: border-box;top: 0;bottom: 0;left: 50%;z-index: -1;}#sk-container-id-1 div.sk-parallel-item {display: flex;flex-direction: column;z-index: 1;position: relative;background-color: white;}#sk-container-id-1 div.sk-parallel-item:first-child::after {align-self: flex-end;width: 50%;}#sk-container-id-1 div.sk-parallel-item:last-child::after {align-self: flex-start;width: 50%;}#sk-container-id-1 div.sk-parallel-item:only-child::after {width: 0;}#sk-container-id-1 div.sk-dashed-wrapped {border: 1px dashed gray;margin: 0 0.4em 0.5em 0.4em;box-sizing: border-box;padding-bottom: 0.4em;background-color: white;}#sk-container-id-1 div.sk-label label {font-family: monospace;font-weight: bold;display: inline-block;line-height: 1.2em;}#sk-container-id-1 div.sk-label-container {text-align: center;}#sk-container-id-1 div.sk-container {/* jupyter's `normalize.less` sets `[hidden] { display: none; }` but bootstrap.min.css set `[hidden] { display: none !important; }` so we also need the `!important` here to be able to override the default hidden behavior on the sphinx rendered scikit-learn.org. See: https://github.com/scikit-learn/scikit-learn/issues/21755 */display: inline-block !important;position: relative;}#sk-container-id-1 div.sk-text-repr-fallback {display: none;}</style><div id=\"sk-container-id-1\" class=\"sk-top-container\"><div class=\"sk-text-repr-fallback\"><pre>RandomForestRegressor(max_depth=13, random_state=4)</pre><b>In a Jupyter environment, please rerun this cell to show the HTML representation or trust the notebook. <br />On GitHub, the HTML representation is unable to render, please try loading this page with nbviewer.org.</b></div><div class=\"sk-container\" hidden><div class=\"sk-item\"><div class=\"sk-estimator sk-toggleable\"><input class=\"sk-toggleable__control sk-hidden--visually\" id=\"sk-estimator-id-1\" type=\"checkbox\" checked><label for=\"sk-estimator-id-1\" class=\"sk-toggleable__label sk-toggleable__label-arrow\">RandomForestRegressor</label><div class=\"sk-toggleable__content\"><pre>RandomForestRegressor(max_depth=13, random_state=4)</pre></div></div></div></div></div>"
      ],
      "text/plain": [
       "RandomForestRegressor(max_depth=13, random_state=4)"
      ]
     },
     "execution_count": 53,
     "metadata": {},
     "output_type": "execute_result"
    }
   ],
   "source": [
    "model = RandomForestRegressor(random_state=4, max_depth=13, n_estimators=100)\n",
    "model.fit(X_train, y_train)"
   ]
  },
  {
   "cell_type": "code",
   "execution_count": 54,
   "id": "0839000c-09e0-4c55-a581-d544f4f069ad",
   "metadata": {
    "tags": []
   },
   "outputs": [
    {
     "name": "stdout",
     "output_type": "stream",
     "text": [
      "RMSE: 0.010064958450439206\n",
      "R2: 0.9894663674008555\n"
     ]
    }
   ],
   "source": [
    "y_pred = model.predict(X_test)\n",
    "print(\"RMSE:\",  mean_squared_error(y_test, y_pred))\n",
    "print(\"R2:\", r2_score(y_test, y_pred))"
   ]
  }
 ],
 "metadata": {
  "kernelspec": {
   "display_name": "Python 3 (ipykernel)",
   "language": "python",
   "name": "python3"
  },
  "language_info": {
   "codemirror_mode": {
    "name": "ipython",
    "version": 3
   },
   "file_extension": ".py",
   "mimetype": "text/x-python",
   "name": "python",
   "nbconvert_exporter": "python",
   "pygments_lexer": "ipython3",
   "version": "3.11.3"
  }
 },
 "nbformat": 4,
 "nbformat_minor": 5
}
